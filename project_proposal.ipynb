{
 "cells": [
  {
   "cell_type": "code",
   "execution_count": 1,
   "id": "f0783b58-898b-4681-be06-b8a7e130af69",
   "metadata": {},
   "outputs": [
    {
     "name": "stderr",
     "output_type": "stream",
     "text": [
      "\n",
      "Attaching package: ‘dplyr’\n",
      "\n",
      "\n",
      "The following objects are masked from ‘package:stats’:\n",
      "\n",
      "    filter, lag\n",
      "\n",
      "\n",
      "The following objects are masked from ‘package:base’:\n",
      "\n",
      "    intersect, setdiff, setequal, union\n",
      "\n",
      "\n",
      "Warning message:\n",
      "“package ‘cowplot’ was built under R version 4.3.2”\n",
      "\n",
      "Attaching package: ‘recipes’\n",
      "\n",
      "\n",
      "The following object is masked from ‘package:stats’:\n",
      "\n",
      "    step\n",
      "\n",
      "\n",
      "── \u001b[1mAttaching core tidyverse packages\u001b[22m ──────────────────────── tidyverse 2.0.0 ──\n",
      "\u001b[32m✔\u001b[39m \u001b[34mlubridate\u001b[39m 1.9.3     \u001b[32m✔\u001b[39m \u001b[34mtibble   \u001b[39m 3.2.1\n",
      "\u001b[32m✔\u001b[39m \u001b[34mstringr  \u001b[39m 1.5.0     \n",
      "── \u001b[1mConflicts\u001b[22m ────────────────────────────────────────── tidyverse_conflicts() ──\n",
      "\u001b[31m✖\u001b[39m \u001b[34mdplyr\u001b[39m::\u001b[32mfilter()\u001b[39m    masks \u001b[34mstats\u001b[39m::filter()\n",
      "\u001b[31m✖\u001b[39m \u001b[34mstringr\u001b[39m::\u001b[32mfixed()\u001b[39m   masks \u001b[34mrecipes\u001b[39m::fixed()\n",
      "\u001b[31m✖\u001b[39m \u001b[34mdplyr\u001b[39m::\u001b[32mlag()\u001b[39m       masks \u001b[34mstats\u001b[39m::lag()\n",
      "\u001b[31m✖\u001b[39m \u001b[34mlubridate\u001b[39m::\u001b[32mstamp()\u001b[39m masks \u001b[34mcowplot\u001b[39m::stamp()\n",
      "\u001b[36mℹ\u001b[39m Use the conflicted package (\u001b[3m\u001b[34m<http://conflicted.r-lib.org/>\u001b[39m\u001b[23m) to force all conflicts to become errors\n",
      "── \u001b[1mAttaching packages\u001b[22m ────────────────────────────────────── tidymodels 1.1.1 ──\n",
      "\n",
      "\u001b[32m✔\u001b[39m \u001b[34mbroom       \u001b[39m 1.0.5     \u001b[32m✔\u001b[39m \u001b[34mrsample     \u001b[39m 1.2.0\n",
      "\u001b[32m✔\u001b[39m \u001b[34mdials       \u001b[39m 1.2.0     \u001b[32m✔\u001b[39m \u001b[34mtune        \u001b[39m 1.1.2\n",
      "\u001b[32m✔\u001b[39m \u001b[34minfer       \u001b[39m 1.0.5     \u001b[32m✔\u001b[39m \u001b[34mworkflowsets\u001b[39m 1.0.1\n",
      "\u001b[32m✔\u001b[39m \u001b[34mmodeldata   \u001b[39m 1.2.0     \u001b[32m✔\u001b[39m \u001b[34myardstick   \u001b[39m 1.2.0\n",
      "\n",
      "── \u001b[1mConflicts\u001b[22m ───────────────────────────────────────── tidymodels_conflicts() ──\n",
      "\u001b[31m✖\u001b[39m \u001b[34mscales\u001b[39m::\u001b[32mdiscard()\u001b[39m masks \u001b[34mpurrr\u001b[39m::discard()\n",
      "\u001b[31m✖\u001b[39m \u001b[34mdplyr\u001b[39m::\u001b[32mfilter()\u001b[39m   masks \u001b[34mstats\u001b[39m::filter()\n",
      "\u001b[31m✖\u001b[39m \u001b[34mstringr\u001b[39m::\u001b[32mfixed()\u001b[39m  masks \u001b[34mrecipes\u001b[39m::fixed()\n",
      "\u001b[31m✖\u001b[39m \u001b[34mdplyr\u001b[39m::\u001b[32mlag()\u001b[39m      masks \u001b[34mstats\u001b[39m::lag()\n",
      "\u001b[31m✖\u001b[39m \u001b[34myardstick\u001b[39m::\u001b[32mspec()\u001b[39m masks \u001b[34mreadr\u001b[39m::spec()\n",
      "\u001b[31m✖\u001b[39m \u001b[34mrecipes\u001b[39m::\u001b[32mstep()\u001b[39m   masks \u001b[34mstats\u001b[39m::step()\n",
      "\u001b[34m•\u001b[39m Use \u001b[32mtidymodels_prefer()\u001b[39m to resolve common conflicts.\n",
      "\n",
      "\n",
      "Attaching package: ‘gridExtra’\n",
      "\n",
      "\n",
      "The following object is masked from ‘package:dplyr’:\n",
      "\n",
      "    combine\n",
      "\n",
      "\n",
      "\n",
      "Attaching package: ‘janitor’\n",
      "\n",
      "\n",
      "The following objects are masked from ‘package:stats’:\n",
      "\n",
      "    chisq.test, fisher.test\n",
      "\n",
      "\n"
     ]
    }
   ],
   "source": [
    "library(dplyr) #Loading all libraries \n",
    "library(tidyr)\n",
    "library(purrr)\n",
    "library(forcats)\n",
    "library(readr)\n",
    "library(readxl)\n",
    "library(ggplot2)\n",
    "library(cowplot)\n",
    "library(repr)\n",
    "library(RPostgres)\n",
    "library(RSQLite)\n",
    "library(workflows)\n",
    "library(recipes)\n",
    "library(parsnip)\n",
    "library(DBI)\n",
    "library(tidyverse)\n",
    "library(tidymodels)\n",
    "library(gridExtra)\n",
    "library(janitor)"
   ]
  },
  {
   "cell_type": "code",
   "execution_count": 2,
   "id": "156fd2b2-1116-4ecb-8b0b-805cff09fafe",
   "metadata": {},
   "outputs": [
    {
     "name": "stderr",
     "output_type": "stream",
     "text": [
      "\u001b[1mRows: \u001b[22m\u001b[34m10000\u001b[39m \u001b[1mColumns: \u001b[22m\u001b[34m15\u001b[39m\n",
      "\u001b[36m──\u001b[39m \u001b[1mColumn specification\u001b[22m \u001b[36m────────────────────────────────────────────────────────\u001b[39m\n",
      "\u001b[1mDelimiter:\u001b[22m \",\"\n",
      "\u001b[31mchr\u001b[39m  (10): Name, Gender, Blood Type, Medical Condition, Doctor, Hospital, In...\n",
      "\u001b[32mdbl\u001b[39m   (3): Age, Billing Amount, Room Number\n",
      "\u001b[34mdate\u001b[39m  (2): Date of Admission, Discharge Date\n",
      "\n",
      "\u001b[36mℹ\u001b[39m Use `spec()` to retrieve the full column specification for this data.\n",
      "\u001b[36mℹ\u001b[39m Specify the column types or set `show_col_types = FALSE` to quiet this message.\n"
     ]
    },
    {
     "ename": "ERROR",
     "evalue": "Error in eval(expr, envir, enclos): object 'compress_heart_data' not found\n",
     "output_type": "error",
     "traceback": [
      "Error in eval(expr, envir, enclos): object 'compress_heart_data' not found\nTraceback:\n",
      "1. head(compress_heart_data, 10)"
     ]
    }
   ],
   "source": [
    "download.file(\"https://raw.githubusercontent.com/An-Dao/dsci_project/main/data/healthcare_dataset%202.csv\",\"data/healthcare_data_read.csv\")\n",
    "health_data <- read_csv(\"data/healthcare_data_read.csv\")\n",
    "\n",
    "# Define age ranges\n",
    "age_ranges <- c(0, 20, 30, 40, 50, 60, 70, 80, Inf)\n",
    "age_labels <- c(\"0-20\", \"21-30\", \"31-40\", \"41-50\", \"51-60\", \"61-70\", \"71-80\", \"81+\")\n",
    "\n",
    "compress_health_data <- health_data |> \n",
    "    clean_names() |>\n",
    "    select(-c(date_of_admission:discharge_date,name,medication,test_results))|>\n",
    "    mutate(age_range = cut(age, breaks = age_ranges, labels = age_labels, include.lowest = TRUE))\n",
    "\n",
    "compress_heart_data |> head(10)\n",
    "write.csv(compress_heart_data, \"data/medical_condition_data.csv\")"
   ]
  },
  {
   "cell_type": "code",
   "execution_count": null,
   "id": "22088d5b-073a-457c-b611-ba3059d69908",
   "metadata": {},
   "outputs": [],
   "source": [
    "set.seed(2000) \n",
    "\n",
    "\n",
    "health_split <- initial_split(compress_heart_data, prop = 3/4, strata = medical_condition)\n",
    "health_training <- training(health_split)\n",
    "health_testing <- testing(health_split)"
   ]
  },
  {
   "cell_type": "code",
   "execution_count": null,
   "id": "46ccf911-4c21-4a0e-8ee5-60f7cf69e0ae",
   "metadata": {},
   "outputs": [],
   "source": [
    "#Using only training data, summarize the data in at least one table (this is exploratory data analysis). \n",
    "#An example of a useful table could be one that reports the number of observations in each class, \n",
    "#the means of the predictor variables you plan to use in your analysis and how many rows have missing data. \n",
    "\n",
    "count_blood_type <- health_training |>\n",
    "    group_by(blood_type)|>\n",
    "    summarize(count = n())\n",
    "count_blood_type \n",
    "\n",
    "count_gender <- health_training |>\n",
    "    group_by(gender)|>\n",
    "    summarize(count = n())\n",
    "count_gender\n",
    "\n",
    "\n",
    "count_age_range <- health_training |>\n",
    "    group_by(age_range)|>\n",
    "    summarize(count = n())\n",
    "count_age_range\n",
    "\n",
    "count_med_cond <- health_training |>\n",
    "    group_by(medical_condition) |>\n",
    "    summarize(count = n())\n",
    "count_med_cond\n",
    "\n",
    "summary_data <- health_training |>\n",
    "    group_by (age_range,blood_type, gender, medical_condition)|>\n",
    "    summarize(count = n() )\n",
    "summary_data"
   ]
  },
  {
   "cell_type": "code",
   "execution_count": null,
   "id": "d9f7946e-74ea-4c83-8f52-61f9fbb06de1",
   "metadata": {},
   "outputs": [],
   "source": [
    "\n",
    "training_plot <- summary_data |>\n",
    "   ggplot(aes(x = age_range, y = count, fill = gender)) + \n",
    "    geom_bar(stat = \"identity\", position = \"dodge\") +\n",
    "  facet_wrap(~ medical_condition, scales = \"free\") +\n",
    "  labs(title = \"Distribution of Male and Female by Age Group for Each Medical Condition\", x = \"Age Group\", y = \"Patient ammount\")+\n",
    "    theme(axis.text.x = element_text(angle = 45, hjust = 1))\n",
    "\n",
    "training_plot2 <- summary_data |>\n",
    "   ggplot(aes(x = blood_type, y = count, fill = gender)) + \n",
    "    geom_bar(stat = \"identity\", position = \"dodge\") +\n",
    "  facet_wrap(~ medical_condition, scales = \"free\") +\n",
    "  labs(title = \"Distribution of Male and Female by Blood type for Each Medical Condition\", x = \"Blood type\", y = \"Patient ammount\")+\n",
    "    theme(axis.text.x = element_text(angle = 45, hjust = 1))\n",
    "training_plot\n",
    "training_plot2"
   ]
  },
  {
   "cell_type": "markdown",
   "id": "9260fe34-d5da-42f6-ac85-b79d1dc350c4",
   "metadata": {},
   "source": []
  },
  {
   "cell_type": "markdown",
   "id": "2871155a-db2f-4d66-bab1-af835eaf1830",
   "metadata": {},
   "source": [
    "**Classification Analysis of Patients with Asthma Based on Age, Gender, and BloodType**\n",
    "\n",
    "**Introduction**\n",
    "<br> \n",
    "    Understanding and learning about human health is pivotal in health improvement within society. Healthcare is the system in which improvement of human health is developed through various practices and studies for the prevention and treatment of patients. For our group project, we will be analyzing a dataset found through Kaggle called “Healthcare Dataset”. This dataset includes patient information that simulates real-life healthcare files. Each column provides information about the patient, their date of admission, and services provided based on their condition. Through data classification, the organization and categorizing of new data through past data, we will answer the predictive question of “Will patients be diagnosed with asthma or not based on their age, gender, and blood type?”. We will be using the K-nearest neighbor classification algorithm to analyze our data to get our prediction result. \n",
    "\n",
    "**Preliminary Exploratory Data Analysis**\n",
    "<br> \n",
    "    Using our data from the web source https://www.kaggle.com/datasets/prasad22/healthcare-dataset/data, we aren't able to directly use the data in Jypiter Notebook. So, we first need to read it by downloading the file and importing it into our repository then we get the directory of the raw file on GitHub. The data is read in and assigned to object \"health_data\". Although the data table is tidy, many variables are unnecessary for our project. We've shortened the table to age, gender, blood_type, medical_condition, and age_group. Of the age_group column, we will split the data into 8 groups of 0-20, 21-30, 31-40, 41-50, 51-60, 61-70, 71-80, 81+. Although every other age group is split by 10 years gap we decided to group 0-10 and 11-20 together as they lack amount of data. To split the data into training and testing sets we have picked a random seed of 2000 and split them by 3/4 with 3 parts going to the training set and the remaining for testing. We've grouped and found each variable's amount and concluded that data are fairly evenly distributed for all the groups we did. The main table is the \"summary_data\" which counts the number of patients that have medical conditions by \"age_group\", \"blood_type\" and \"gender\". We then visualize the \"summary_data\" into a bar graph showing the distribution of males and females having medical conditions. We can verify the even distribution between male and female patients in all \"age_group\" for each medical condition. This even spread will allow our model to have a higher precision.\n",
    "\n",
    "**Methods**\n",
    "\n",
    "**Expected Outcomes and Significance** "
   ]
  },
  {
   "cell_type": "markdown",
   "id": "16bd0327-eaff-4b5f-935d-fc29f9202c86",
   "metadata": {},
   "source": [
    "**Contributors:**\n",
    "<br>*An Dao*, *Moya Ku*"
   ]
  },
  {
   "cell_type": "code",
   "execution_count": null,
   "id": "ce44ad0f-cfd7-4642-a202-4a5674c7e2d1",
   "metadata": {},
   "outputs": [],
   "source": []
  }
 ],
 "metadata": {
  "kernelspec": {
   "display_name": "R",
   "language": "R",
   "name": "ir"
  },
  "language_info": {
   "codemirror_mode": "r",
   "file_extension": ".r",
   "mimetype": "text/x-r-source",
   "name": "R",
   "pygments_lexer": "r",
   "version": "4.3.1"
  }
 },
 "nbformat": 4,
 "nbformat_minor": 5
}
